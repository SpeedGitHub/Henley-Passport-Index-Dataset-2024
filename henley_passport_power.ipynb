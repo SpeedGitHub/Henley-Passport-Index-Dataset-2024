{
 "cells": [
  {
   "cell_type": "code",
   "execution_count": 69,
   "metadata": {
    "collapsed": true,
    "pycharm": {
     "name": "#%%\n"
    }
   },
   "outputs": [],
   "source": [
    "import requests\n",
    "import pandas as pd\n",
    "from datetime import datetime"
   ]
  },
  {
   "cell_type": "code",
   "execution_count": 70,
   "outputs": [],
   "source": [
    "res = requests.get('https://api.henleypassportindex.com/api/passports')\n",
    "data = res.json()"
   ],
   "metadata": {
    "collapsed": false,
    "pycharm": {
     "name": "#%%\n"
    }
   }
  },
  {
   "cell_type": "code",
   "execution_count": 71,
   "outputs": [],
   "source": [
    "code_list = [{'code': item.get('code'),'country':item.get('name')} for item in data if item.get('code') != '']\n",
    "#sort by country name instead of code\n",
    "code_list = sorted(code_list, key=lambda k: k['country'])"
   ],
   "metadata": {
    "collapsed": false,
    "pycharm": {
     "name": "#%%\n"
    }
   }
  },
  {
   "cell_type": "code",
   "execution_count": 72,
   "outputs": [],
   "source": [
    "origin_lst = []\n",
    "destination_lst = []\n",
    "requirement = []\n",
    "visa_free_count_lst = []\n",
    "visa_required_count_lst = []\n",
    "origin_for_count = []\n",
    "visa_free = 'Visa Free'\n",
    "visa_required = 'Visa Required'\n",
    "\n",
    "for origin in code_list:\n",
    "    origin_country = origin.get('country')\n",
    "    origin_for_count.append(origin_country)\n",
    "    count_vf = 0\n",
    "    count_vr = 0\n",
    "    res = requests.get('https://api.henleypassportindex.com/api/passports/' + origin.get('code') + '/countries')\n",
    "    data = res.json()\n",
    "    for destination in data['default']:\n",
    "        destination_country = destination.get('name')\n",
    "        origin_lst.append(origin_country)\n",
    "        destination_lst.append(destination_country)\n",
    "        is_visa_free = destination.get('pivot').get('is_visa_free')\n",
    "        if str(is_visa_free) == \"1\":\n",
    "            count_vf += 1\n",
    "            requirement.append(visa_free)\n",
    "        else:\n",
    "            if str(origin_country) == str(destination_country):\n",
    "                requirement.append(\"N/A\")\n",
    "            else:\n",
    "                count_vr +=1\n",
    "                requirement.append(visa_required)\n",
    "\n",
    "    visa_free_count_lst.append(count_vf)\n",
    "    visa_required_count_lst.append(count_vr)"
   ],
   "metadata": {
    "collapsed": false,
    "pycharm": {
     "name": "#%%\n"
    }
   }
  },
  {
   "cell_type": "code",
   "execution_count": 74,
   "outputs": [],
   "source": [
    "today_date = datetime.today().strftime('%Y-%m-%d')\n",
    "file_name = \"henley-passport-index\"+\"-\"+today_date+\".csv\"\n",
    "\n",
    "pd_1 = pd.DataFrame({'Origin': origin_lst, 'Destination': destination_lst, 'Requirement': requirement})\n",
    "pd_1.to_csv(file_name, index=False)"
   ],
   "metadata": {
    "collapsed": false,
    "pycharm": {
     "name": "#%%\n"
    }
   }
  },
  {
   "cell_type": "code",
   "execution_count": 87,
   "outputs": [
    {
     "name": "stdout",
     "output_type": "stream",
     "text": [
      "Total number of countries in origin_lst: 199 Total number of countries in destination_lst: 227\n"
     ]
    }
   ],
   "source": [
    "#filter unique countries in origin_lst\n",
    "origin_lst = list(set(origin_lst))\n",
    "#filter unique countries in destination_lst\n",
    "destination_lst = list(set(destination_lst))\n",
    "\n",
    "print(\n",
    "    \"Total number of countries in origin_lst: \" + str(len(origin_lst)) ,\n",
    "    \"Total number of countries in destination_lst: \" + str(len(destination_lst))\n",
    ")"
   ],
   "metadata": {
    "collapsed": false,
    "pycharm": {
     "name": "#%%\n"
    }
   }
  },
  {
   "cell_type": "code",
   "execution_count": 88,
   "outputs": [
    {
     "data": {
      "text/plain": "            Origin     Destination    Requirement\n0      Afghanistan     Afghanistan            N/A\n1      Afghanistan         Albania  Visa Required\n2      Afghanistan         Algeria  Visa Required\n3      Afghanistan  American Samoa  Visa Required\n4      Afghanistan         Andorra  Visa Required\n...            ...             ...            ...\n45168     eSwatini         Vietnam  Visa Required\n45169     eSwatini           Yemen  Visa Required\n45170     eSwatini          Zambia      Visa Free\n45171     eSwatini        Zimbabwe      Visa Free\n45172     eSwatini        eSwatini            N/A\n\n[45173 rows x 3 columns]",
      "text/html": "<div>\n<style scoped>\n    .dataframe tbody tr th:only-of-type {\n        vertical-align: middle;\n    }\n\n    .dataframe tbody tr th {\n        vertical-align: top;\n    }\n\n    .dataframe thead th {\n        text-align: right;\n    }\n</style>\n<table border=\"1\" class=\"dataframe\">\n  <thead>\n    <tr style=\"text-align: right;\">\n      <th></th>\n      <th>Origin</th>\n      <th>Destination</th>\n      <th>Requirement</th>\n    </tr>\n  </thead>\n  <tbody>\n    <tr>\n      <th>0</th>\n      <td>Afghanistan</td>\n      <td>Afghanistan</td>\n      <td>N/A</td>\n    </tr>\n    <tr>\n      <th>1</th>\n      <td>Afghanistan</td>\n      <td>Albania</td>\n      <td>Visa Required</td>\n    </tr>\n    <tr>\n      <th>2</th>\n      <td>Afghanistan</td>\n      <td>Algeria</td>\n      <td>Visa Required</td>\n    </tr>\n    <tr>\n      <th>3</th>\n      <td>Afghanistan</td>\n      <td>American Samoa</td>\n      <td>Visa Required</td>\n    </tr>\n    <tr>\n      <th>4</th>\n      <td>Afghanistan</td>\n      <td>Andorra</td>\n      <td>Visa Required</td>\n    </tr>\n    <tr>\n      <th>...</th>\n      <td>...</td>\n      <td>...</td>\n      <td>...</td>\n    </tr>\n    <tr>\n      <th>45168</th>\n      <td>eSwatini</td>\n      <td>Vietnam</td>\n      <td>Visa Required</td>\n    </tr>\n    <tr>\n      <th>45169</th>\n      <td>eSwatini</td>\n      <td>Yemen</td>\n      <td>Visa Required</td>\n    </tr>\n    <tr>\n      <th>45170</th>\n      <td>eSwatini</td>\n      <td>Zambia</td>\n      <td>Visa Free</td>\n    </tr>\n    <tr>\n      <th>45171</th>\n      <td>eSwatini</td>\n      <td>Zimbabwe</td>\n      <td>Visa Free</td>\n    </tr>\n    <tr>\n      <th>45172</th>\n      <td>eSwatini</td>\n      <td>eSwatini</td>\n      <td>N/A</td>\n    </tr>\n  </tbody>\n</table>\n<p>45173 rows × 3 columns</p>\n</div>"
     },
     "execution_count": 88,
     "metadata": {},
     "output_type": "execute_result"
    }
   ],
   "source": [
    "#filter countries not common in origin_lst and destination_lst\n",
    "pd_1"
   ],
   "metadata": {
    "collapsed": false,
    "pycharm": {
     "name": "#%%\n"
    }
   }
  },
  {
   "cell_type": "code",
   "execution_count": 76,
   "outputs": [],
   "source": [
    "today_date = datetime.today().strftime('%Y-%m-%d')\n",
    "file_name = \"henley-passport-index-count\"+\"-\"+today_date+\".csv\"\n",
    "\n",
    "pd_2 = pd.DataFrame({'Origin': origin_for_count, 'Visa Free': visa_free_count_lst, 'Visa Required': visa_required_count_lst})\n",
    "pd_2.to_csv(file_name, index=False)"
   ],
   "metadata": {
    "collapsed": false,
    "pycharm": {
     "name": "#%%\n"
    }
   }
  },
  {
   "cell_type": "code",
   "execution_count": 77,
   "outputs": [
    {
     "data": {
      "text/plain": "          Origin  Visa Free  Visa Required\n0    Afghanistan         27            199\n1        Albania        115            111\n2        Algeria         52            174\n3        Andorra        169             57\n4         Angola         50            176\n..           ...        ...            ...\n194      Vietnam         55            171\n195        Yemen         34            192\n196       Zambia         70            156\n197     Zimbabwe         65            161\n198     eSwatini         74            152\n\n[199 rows x 3 columns]",
      "text/html": "<div>\n<style scoped>\n    .dataframe tbody tr th:only-of-type {\n        vertical-align: middle;\n    }\n\n    .dataframe tbody tr th {\n        vertical-align: top;\n    }\n\n    .dataframe thead th {\n        text-align: right;\n    }\n</style>\n<table border=\"1\" class=\"dataframe\">\n  <thead>\n    <tr style=\"text-align: right;\">\n      <th></th>\n      <th>Origin</th>\n      <th>Visa Free</th>\n      <th>Visa Required</th>\n    </tr>\n  </thead>\n  <tbody>\n    <tr>\n      <th>0</th>\n      <td>Afghanistan</td>\n      <td>27</td>\n      <td>199</td>\n    </tr>\n    <tr>\n      <th>1</th>\n      <td>Albania</td>\n      <td>115</td>\n      <td>111</td>\n    </tr>\n    <tr>\n      <th>2</th>\n      <td>Algeria</td>\n      <td>52</td>\n      <td>174</td>\n    </tr>\n    <tr>\n      <th>3</th>\n      <td>Andorra</td>\n      <td>169</td>\n      <td>57</td>\n    </tr>\n    <tr>\n      <th>4</th>\n      <td>Angola</td>\n      <td>50</td>\n      <td>176</td>\n    </tr>\n    <tr>\n      <th>...</th>\n      <td>...</td>\n      <td>...</td>\n      <td>...</td>\n    </tr>\n    <tr>\n      <th>194</th>\n      <td>Vietnam</td>\n      <td>55</td>\n      <td>171</td>\n    </tr>\n    <tr>\n      <th>195</th>\n      <td>Yemen</td>\n      <td>34</td>\n      <td>192</td>\n    </tr>\n    <tr>\n      <th>196</th>\n      <td>Zambia</td>\n      <td>70</td>\n      <td>156</td>\n    </tr>\n    <tr>\n      <th>197</th>\n      <td>Zimbabwe</td>\n      <td>65</td>\n      <td>161</td>\n    </tr>\n    <tr>\n      <th>198</th>\n      <td>eSwatini</td>\n      <td>74</td>\n      <td>152</td>\n    </tr>\n  </tbody>\n</table>\n<p>199 rows × 3 columns</p>\n</div>"
     },
     "execution_count": 77,
     "metadata": {},
     "output_type": "execute_result"
    }
   ],
   "source": [
    "pd_2"
   ],
   "metadata": {
    "collapsed": false,
    "pycharm": {
     "name": "#%%\n"
    }
   }
  },
  {
   "cell_type": "code",
   "execution_count": null,
   "outputs": [],
   "source": [],
   "metadata": {
    "collapsed": false,
    "pycharm": {
     "name": "#%%\n"
    }
   }
  }
 ],
 "metadata": {
  "kernelspec": {
   "display_name": "Python 3",
   "language": "python",
   "name": "python3"
  },
  "language_info": {
   "codemirror_mode": {
    "name": "ipython",
    "version": 2
   },
   "file_extension": ".py",
   "mimetype": "text/x-python",
   "name": "python",
   "nbconvert_exporter": "python",
   "pygments_lexer": "ipython2",
   "version": "2.7.6"
  }
 },
 "nbformat": 4,
 "nbformat_minor": 0
}
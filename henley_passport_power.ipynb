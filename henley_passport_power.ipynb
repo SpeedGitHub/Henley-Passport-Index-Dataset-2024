{
 "cells": [
  {
   "cell_type": "code",
   "execution_count": 1,
   "metadata": {
    "collapsed": true,
    "ExecuteTime": {
     "end_time": "2023-05-17T03:08:38.048189Z",
     "start_time": "2023-05-17T03:08:37.804410Z"
    }
   },
   "outputs": [],
   "source": [
    "import requests\n",
    "import pandas as pd\n",
    "from datetime import datetime"
   ]
  },
  {
   "cell_type": "code",
   "execution_count": 2,
   "outputs": [],
   "source": [
    "res = requests.get('https://api.henleypassportindex.com/api/passports')\n",
    "data = res.json()"
   ],
   "metadata": {
    "collapsed": false,
    "ExecuteTime": {
     "end_time": "2023-05-17T03:08:39.159083Z",
     "start_time": "2023-05-17T03:08:38.048977Z"
    }
   }
  },
  {
   "cell_type": "code",
   "execution_count": 3,
   "outputs": [],
   "source": [
    "code_list = [{'code': item.get('code'),'country':item.get('name')} for item in data if item.get('code') != '']\n",
    "#sort by country name instead of code\n",
    "code_list = sorted(code_list, key=lambda k: k['country'])"
   ],
   "metadata": {
    "collapsed": false,
    "ExecuteTime": {
     "end_time": "2023-05-17T03:08:39.162881Z",
     "start_time": "2023-05-17T03:08:39.160681Z"
    }
   }
  },
  {
   "cell_type": "code",
   "execution_count": 4,
   "outputs": [],
   "source": [
    "origin_lst = []\n",
    "destination_lst = []\n",
    "requirement = []\n",
    "visa_free_count_lst = []\n",
    "visa_required_count_lst = []\n",
    "origin_for_count = []\n",
    "visa_free = 'Visa Free'\n",
    "visa_required = 'Visa Required'\n",
    "\n",
    "for origin in code_list:\n",
    "    origin_country = origin.get('country')\n",
    "    origin_for_count.append(origin_country)\n",
    "    count_vf = 0\n",
    "    count_vr = 0\n",
    "    res = requests.get('https://api.henleypassportindex.com/api/passports/' + origin.get('code') + '/countries')\n",
    "    data = res.json()\n",
    "    for destination in data['default']:\n",
    "        destination_country = destination.get('name')\n",
    "        origin_lst.append(origin_country)\n",
    "        destination_lst.append(destination_country)\n",
    "        is_visa_free = destination.get('pivot').get('is_visa_free')\n",
    "        if str(is_visa_free) == \"1\":\n",
    "            count_vf += 1\n",
    "            requirement.append(visa_free)\n",
    "        else:\n",
    "            if str(origin_country) == str(destination_country):\n",
    "                requirement.append(\"N/A\")\n",
    "            else:\n",
    "                count_vr +=1\n",
    "                requirement.append(visa_required)\n",
    "\n",
    "    visa_free_count_lst.append(count_vf)\n",
    "    visa_required_count_lst.append(count_vr)"
   ],
   "metadata": {
    "collapsed": false,
    "ExecuteTime": {
     "end_time": "2023-05-17T03:11:10.565719Z",
     "start_time": "2023-05-17T03:08:39.167790Z"
    }
   }
  },
  {
   "cell_type": "code",
   "execution_count": 5,
   "outputs": [],
   "source": [
    "today_date = datetime.today().strftime('%Y-%m-%d')\n",
    "file_name = \"henley-passport-index\"+\"-\"+today_date+\".csv\"\n",
    "\n",
    "pd_1 = pd.DataFrame({'Origin': origin_lst, 'Destination': destination_lst, 'Requirement': requirement})\n",
    "pd_1.to_csv(file_name, index=False)"
   ],
   "metadata": {
    "collapsed": false,
    "ExecuteTime": {
     "end_time": "2023-05-17T03:11:10.648923Z",
     "start_time": "2023-05-17T03:11:10.572872Z"
    }
   }
  },
  {
   "cell_type": "code",
   "execution_count": 6,
   "outputs": [
    {
     "name": "stdout",
     "output_type": "stream",
     "text": [
      "Total number of countries in origin_lst: 199 Total number of countries in destination_lst: 227\n"
     ]
    }
   ],
   "source": [
    "#filter unique countries in origin_lst\n",
    "origin_lst = list(set(origin_lst))\n",
    "#filter unique countries in destination_lst\n",
    "destination_lst = list(set(destination_lst))\n",
    "\n",
    "print(\n",
    "    \"Total number of countries in origin_lst: \" + str(len(origin_lst)) ,\n",
    "    \"Total number of countries in destination_lst: \" + str(len(destination_lst))\n",
    ")"
   ],
   "metadata": {
    "collapsed": false,
    "ExecuteTime": {
     "end_time": "2023-05-17T03:11:10.653924Z",
     "start_time": "2023-05-17T03:11:10.652183Z"
    }
   }
  },
  {
   "cell_type": "code",
   "execution_count": 7,
   "outputs": [
    {
     "data": {
      "text/plain": "            Origin     Destination    Requirement\n0      Afghanistan     Afghanistan            N/A\n1      Afghanistan         Albania  Visa Required\n2      Afghanistan         Algeria  Visa Required\n3      Afghanistan  American Samoa  Visa Required\n4      Afghanistan         Andorra  Visa Required\n...            ...             ...            ...\n45169     eSwatini         Vietnam  Visa Required\n45170     eSwatini           Yemen  Visa Required\n45171     eSwatini          Zambia      Visa Free\n45172     eSwatini        Zimbabwe      Visa Free\n45173     eSwatini        eSwatini            N/A\n\n[45174 rows x 3 columns]",
      "text/html": "<div>\n<style scoped>\n    .dataframe tbody tr th:only-of-type {\n        vertical-align: middle;\n    }\n\n    .dataframe tbody tr th {\n        vertical-align: top;\n    }\n\n    .dataframe thead th {\n        text-align: right;\n    }\n</style>\n<table border=\"1\" class=\"dataframe\">\n  <thead>\n    <tr style=\"text-align: right;\">\n      <th></th>\n      <th>Origin</th>\n      <th>Destination</th>\n      <th>Requirement</th>\n    </tr>\n  </thead>\n  <tbody>\n    <tr>\n      <th>0</th>\n      <td>Afghanistan</td>\n      <td>Afghanistan</td>\n      <td>N/A</td>\n    </tr>\n    <tr>\n      <th>1</th>\n      <td>Afghanistan</td>\n      <td>Albania</td>\n      <td>Visa Required</td>\n    </tr>\n    <tr>\n      <th>2</th>\n      <td>Afghanistan</td>\n      <td>Algeria</td>\n      <td>Visa Required</td>\n    </tr>\n    <tr>\n      <th>3</th>\n      <td>Afghanistan</td>\n      <td>American Samoa</td>\n      <td>Visa Required</td>\n    </tr>\n    <tr>\n      <th>4</th>\n      <td>Afghanistan</td>\n      <td>Andorra</td>\n      <td>Visa Required</td>\n    </tr>\n    <tr>\n      <th>...</th>\n      <td>...</td>\n      <td>...</td>\n      <td>...</td>\n    </tr>\n    <tr>\n      <th>45169</th>\n      <td>eSwatini</td>\n      <td>Vietnam</td>\n      <td>Visa Required</td>\n    </tr>\n    <tr>\n      <th>45170</th>\n      <td>eSwatini</td>\n      <td>Yemen</td>\n      <td>Visa Required</td>\n    </tr>\n    <tr>\n      <th>45171</th>\n      <td>eSwatini</td>\n      <td>Zambia</td>\n      <td>Visa Free</td>\n    </tr>\n    <tr>\n      <th>45172</th>\n      <td>eSwatini</td>\n      <td>Zimbabwe</td>\n      <td>Visa Free</td>\n    </tr>\n    <tr>\n      <th>45173</th>\n      <td>eSwatini</td>\n      <td>eSwatini</td>\n      <td>N/A</td>\n    </tr>\n  </tbody>\n</table>\n<p>45174 rows × 3 columns</p>\n</div>"
     },
     "execution_count": 7,
     "metadata": {},
     "output_type": "execute_result"
    }
   ],
   "source": [
    "#filter countries not common in origin_lst and destination_lst\n",
    "pd_1"
   ],
   "metadata": {
    "collapsed": false,
    "ExecuteTime": {
     "end_time": "2023-05-17T03:11:10.666996Z",
     "start_time": "2023-05-17T03:11:10.657075Z"
    }
   }
  },
  {
   "cell_type": "code",
   "execution_count": 8,
   "outputs": [],
   "source": [
    "today_date = datetime.today().strftime('%Y-%m-%d')\n",
    "file_name = \"henley-passport-index-count\"+\"-\"+today_date+\".csv\"\n",
    "\n",
    "pd_2 = pd.DataFrame({'Origin': origin_for_count, 'Visa Free': visa_free_count_lst, 'Visa Required': visa_required_count_lst})\n",
    "pd_2.to_csv(file_name, index=False)"
   ],
   "metadata": {
    "collapsed": false,
    "ExecuteTime": {
     "end_time": "2023-05-17T03:11:10.667166Z",
     "start_time": "2023-05-17T03:11:10.666564Z"
    }
   }
  },
  {
   "cell_type": "code",
   "execution_count": 9,
   "outputs": [
    {
     "data": {
      "text/plain": "          Origin  Visa Free  Visa Required\n0    Afghanistan         27            199\n1        Albania        117            109\n2        Algeria         53            173\n3        Andorra        170             56\n4         Angola         50            176\n..           ...        ...            ...\n194      Vietnam         56            170\n195        Yemen         35            191\n196       Zambia         70            156\n197     Zimbabwe         66            160\n198     eSwatini         75            151\n\n[199 rows x 3 columns]",
      "text/html": "<div>\n<style scoped>\n    .dataframe tbody tr th:only-of-type {\n        vertical-align: middle;\n    }\n\n    .dataframe tbody tr th {\n        vertical-align: top;\n    }\n\n    .dataframe thead th {\n        text-align: right;\n    }\n</style>\n<table border=\"1\" class=\"dataframe\">\n  <thead>\n    <tr style=\"text-align: right;\">\n      <th></th>\n      <th>Origin</th>\n      <th>Visa Free</th>\n      <th>Visa Required</th>\n    </tr>\n  </thead>\n  <tbody>\n    <tr>\n      <th>0</th>\n      <td>Afghanistan</td>\n      <td>27</td>\n      <td>199</td>\n    </tr>\n    <tr>\n      <th>1</th>\n      <td>Albania</td>\n      <td>117</td>\n      <td>109</td>\n    </tr>\n    <tr>\n      <th>2</th>\n      <td>Algeria</td>\n      <td>53</td>\n      <td>173</td>\n    </tr>\n    <tr>\n      <th>3</th>\n      <td>Andorra</td>\n      <td>170</td>\n      <td>56</td>\n    </tr>\n    <tr>\n      <th>4</th>\n      <td>Angola</td>\n      <td>50</td>\n      <td>176</td>\n    </tr>\n    <tr>\n      <th>...</th>\n      <td>...</td>\n      <td>...</td>\n      <td>...</td>\n    </tr>\n    <tr>\n      <th>194</th>\n      <td>Vietnam</td>\n      <td>56</td>\n      <td>170</td>\n    </tr>\n    <tr>\n      <th>195</th>\n      <td>Yemen</td>\n      <td>35</td>\n      <td>191</td>\n    </tr>\n    <tr>\n      <th>196</th>\n      <td>Zambia</td>\n      <td>70</td>\n      <td>156</td>\n    </tr>\n    <tr>\n      <th>197</th>\n      <td>Zimbabwe</td>\n      <td>66</td>\n      <td>160</td>\n    </tr>\n    <tr>\n      <th>198</th>\n      <td>eSwatini</td>\n      <td>75</td>\n      <td>151</td>\n    </tr>\n  </tbody>\n</table>\n<p>199 rows × 3 columns</p>\n</div>"
     },
     "execution_count": 9,
     "metadata": {},
     "output_type": "execute_result"
    }
   ],
   "source": [
    "pd_2"
   ],
   "metadata": {
    "collapsed": false,
    "ExecuteTime": {
     "end_time": "2023-05-17T03:11:10.677557Z",
     "start_time": "2023-05-17T03:11:10.668621Z"
    }
   }
  },
  {
   "cell_type": "code",
   "execution_count": 9,
   "outputs": [],
   "source": [],
   "metadata": {
    "collapsed": false,
    "ExecuteTime": {
     "end_time": "2023-05-17T03:11:10.677981Z",
     "start_time": "2023-05-17T03:11:10.670982Z"
    }
   }
  }
 ],
 "metadata": {
  "kernelspec": {
   "display_name": "Python 3",
   "language": "python",
   "name": "python3"
  },
  "language_info": {
   "codemirror_mode": {
    "name": "ipython",
    "version": 2
   },
   "file_extension": ".py",
   "mimetype": "text/x-python",
   "name": "python",
   "nbconvert_exporter": "python",
   "pygments_lexer": "ipython2",
   "version": "2.7.6"
  }
 },
 "nbformat": 4,
 "nbformat_minor": 0
}
